{
 "cells": [
  {
   "cell_type": "code",
   "execution_count": 116,
   "metadata": {},
   "outputs": [],
   "source": [
    "def getPrimaryNum_Eratos(N): \n",
    "    nums = [True] * (N) \n",
    "    for i in range(2, int(N**0.5) + 1): \n",
    "        if nums[i] == True: \n",
    "            for j in range(i+i ,N, i): \n",
    "                nums[j] = False \n",
    "    return [i for i in range(2, N) if nums[i] == True] \n",
    "n = 100\n",
    "res = getPrimaryNum_Eratos(n)"
   ]
  },
  {
   "cell_type": "code",
   "execution_count": 142,
   "metadata": {},
   "outputs": [
    {
     "name": "stdout",
     "output_type": "stream",
     "text": [
      "5 5\n"
     ]
    }
   ],
   "source": [
    "def getPrimaryNum_Eratos(N): \n",
    "    nums = [True] * (N) \n",
    "    for i in range(2, int(N**0.5) + 1): \n",
    "        if nums[i] == True: \n",
    "            for j in range(i+i ,N, i): \n",
    "                nums[j] = False \n",
    "    return [i for i in range(2, N) if nums[i] == True] \n",
    "n = 10\n",
    "res = getPrimaryNum_Eratos(n)\n",
    "tmp = []\n",
    "for i in range(len(res) // 2 + 1) :\n",
    "    for j in res :\n",
    "        if res[i] + j == n :\n",
    "            tmp.append([res[i], j])\n",
    "print(' '.join([str(i) for i in tmp[-1]]))"
   ]
  },
  {
   "cell_type": "code",
   "execution_count": 31,
   "metadata": {},
   "outputs": [
    {
     "name": "stdout",
     "output_type": "stream",
     "text": [
      "3 5\n",
      "5 5\n",
      "5 11\n"
     ]
    }
   ],
   "source": [
    "def getPrimaryNum_Eratos(N): \n",
    "    nums = [True] * (N) \n",
    "    for i in range(2, int(N**0.5) + 1): \n",
    "        if nums[i] == True: \n",
    "            for j in range(i+i ,N, i): \n",
    "                nums[j] = False \n",
    "    return [i for i in range(2, N) if nums[i] == True]\n",
    "\n",
    "def prime(n) :\n",
    "    lst = getPrimaryNum_Eratos(n)\n",
    "    idx = max([i for i in range(len(lst)) if lst[i] <= n / 2])\n",
    "    for i in range(idx, -1, -1) :\n",
    "        for j in range(i, len(lst)) :\n",
    "            if lst[i] + lst[j] == n :\n",
    "                return [lst[i], lst[j]]\n",
    "                \n",
    "for _ in range(int(input())) :\n",
    "    n = int(input())\n",
    "    print(' '.join([str(i) for i in prime(n)]))"
   ]
  },
  {
   "cell_type": "code",
   "execution_count": 8,
   "metadata": {},
   "outputs": [],
   "source": [
    "a = 432"
   ]
  },
  {
   "cell_type": "code",
   "execution_count": 14,
   "metadata": {},
   "outputs": [
    {
     "data": {
      "text/plain": [
       "[4, 3, 2]"
      ]
     },
     "execution_count": 14,
     "metadata": {},
     "output_type": "execute_result"
    }
   ],
   "source": [
    "b = [int(i) for i in list(str(a))]\n",
    "b"
   ]
  },
  {
   "cell_type": "code",
   "execution_count": 22,
   "metadata": {},
   "outputs": [
    {
     "data": {
      "text/plain": [
       "144"
      ]
     },
     "execution_count": 22,
     "metadata": {},
     "output_type": "execute_result"
    }
   ],
   "source": [
    "def func(num) :\n",
    "    if num > 100 :\n",
    "        lst = list(range(1, num))\n",
    "        n = 99\n",
    "        for a in lst :\n",
    "            if a > 100 :\n",
    "                b = [int(i) for i in list(str(a))]\n",
    "                if b[-3] - b[-2] == b[-2] - b[-1] :\n",
    "                    n += 1\n",
    "    else :\n",
    "        n = num\n",
    "    return n\n",
    "\n",
    "func(1000)"
   ]
  },
  {
   "cell_type": "code",
   "execution_count": null,
   "metadata": {},
   "outputs": [],
   "source": []
  }
 ],
 "metadata": {
  "interpreter": {
   "hash": "b3ba2566441a7c06988d0923437866b63cedc61552a5af99d1f4fb67d367b25f"
  },
  "kernelspec": {
   "display_name": "Python 3.8.12 64-bit ('base': conda)",
   "language": "python",
   "name": "python3"
  },
  "language_info": {
   "codemirror_mode": {
    "name": "ipython",
    "version": 3
   },
   "file_extension": ".py",
   "mimetype": "text/x-python",
   "name": "python",
   "nbconvert_exporter": "python",
   "pygments_lexer": "ipython3",
   "version": "3.8.8"
  },
  "orig_nbformat": 4
 },
 "nbformat": 4,
 "nbformat_minor": 2
}
