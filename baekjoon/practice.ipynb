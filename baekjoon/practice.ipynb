{
 "cells": [
  {
   "cell_type": "code",
   "execution_count": 102,
   "metadata": {},
   "outputs": [
    {
     "name": "stdout",
     "output_type": "stream",
     "text": [
      "1\n",
      "[]\n",
      "3\n",
      "[0.5]\n",
      "5\n",
      "[0.5, 0.6666666666666667, 0.25]\n",
      "7\n",
      "[0.5, 0.3333333333333335, 0.75, 0.3999999999999999, 0.16666666666666674]\n",
      "10\n",
      "[0.0, 0.3333333333333335, 0.5, 0.0, 0.6666666666666667, 0.4285714285714286, 0.25, 0.11111111111111116]\n"
     ]
    }
   ],
   "source": [
    "lst = [1, 3, 5, 7, 10]\n",
    "n = 0\n",
    "for a in lst :\n",
    "    print(a)\n",
    "    tmp = []\n",
    "    for b in range(2, a) :\n",
    "        tmp.append((a / b) % 1)\n",
    "    \n",
    "    print(tmp)"
   ]
  },
  {
   "cell_type": "code",
   "execution_count": 103,
   "metadata": {},
   "outputs": [
    {
     "data": {
      "text/plain": [
       "True"
      ]
     },
     "execution_count": 103,
     "metadata": {},
     "output_type": "execute_result"
    }
   ],
   "source": [
    "0.0 in tmp"
   ]
  },
  {
   "cell_type": "code",
   "execution_count": 4,
   "metadata": {},
   "outputs": [
    {
     "name": "stdout",
     "output_type": "stream",
     "text": [
      "<class 'str'>\n"
     ]
    }
   ],
   "source": [
    "print(type(num))\n"
   ]
  },
  {
   "cell_type": "code",
   "execution_count": 8,
   "metadata": {},
   "outputs": [],
   "source": [
    "a = 432"
   ]
  },
  {
   "cell_type": "code",
   "execution_count": 14,
   "metadata": {},
   "outputs": [
    {
     "data": {
      "text/plain": [
       "[4, 3, 2]"
      ]
     },
     "execution_count": 14,
     "metadata": {},
     "output_type": "execute_result"
    }
   ],
   "source": [
    "b = [int(i) for i in list(str(a))]\n",
    "b"
   ]
  },
  {
   "cell_type": "code",
   "execution_count": 22,
   "metadata": {},
   "outputs": [
    {
     "data": {
      "text/plain": [
       "144"
      ]
     },
     "execution_count": 22,
     "metadata": {},
     "output_type": "execute_result"
    }
   ],
   "source": [
    "def func(num) :\n",
    "    if num > 100 :\n",
    "        lst = list(range(1, num))\n",
    "        n = 99\n",
    "        for a in lst :\n",
    "            if a > 100 :\n",
    "                b = [int(i) for i in list(str(a))]\n",
    "                if b[-3] - b[-2] == b[-2] - b[-1] :\n",
    "                    n += 1\n",
    "    else :\n",
    "        n = num\n",
    "    return n\n",
    "\n",
    "func(1000)"
   ]
  },
  {
   "cell_type": "code",
   "execution_count": null,
   "metadata": {},
   "outputs": [],
   "source": []
  }
 ],
 "metadata": {
  "interpreter": {
   "hash": "b3ba2566441a7c06988d0923437866b63cedc61552a5af99d1f4fb67d367b25f"
  },
  "kernelspec": {
   "display_name": "Python 3.8.12 64-bit ('base': conda)",
   "language": "python",
   "name": "python3"
  },
  "language_info": {
   "codemirror_mode": {
    "name": "ipython",
    "version": 3
   },
   "file_extension": ".py",
   "mimetype": "text/x-python",
   "name": "python",
   "nbconvert_exporter": "python",
   "pygments_lexer": "ipython3",
   "version": "3.8.8"
  },
  "orig_nbformat": 4
 },
 "nbformat": 4,
 "nbformat_minor": 2
}
